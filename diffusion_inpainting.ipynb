{
 "cells": [
  {
   "cell_type": "code",
   "execution_count": 7,
   "id": "8f2bd468-c271-4021-9edc-99149e32b1db",
   "metadata": {},
   "outputs": [],
   "source": [
    "import torch\n",
    "import numpy as np\n",
    "import math\n",
    "# from diffusers import StableDiffusionInpaintingPipeline\n",
    "from torchvision.utils import save_image\n",
    "from torchvision import transforms\n",
    "from PIL import Image\n",
    "import torch.nn as nn\n",
    "import os\n",
    "from torch.utils.data import DataLoader\n",
    "from tqdm import tqdm\n",
    "import sys\n",
    "sys.path.insert(0, \"Image_Inpainting\")\n",
    "from data import InpaintingDataset, find_images_recursively\n",
    "from evaluate_models import evaluate_model, calculate_psnr\n",
    "from evaluate_diffusion import save_combined_images, save_grid\n",
    "from utils import make_mask\n",
    "from diffusers import StableDiffusionInpaintPipeline, DiffusionPipeline\n",
    "\n",
    "device = torch.device(\"cuda\" if torch.cuda.is_available() else \"cpu\")"
   ]
  },
  {
   "cell_type": "code",
   "execution_count": 2,
   "id": "ba5027fb-f501-4b67-94f6-71e8e06c9892",
   "metadata": {
    "scrolled": true
   },
   "outputs": [
    {
     "data": {
      "application/vnd.jupyter.widget-view+json": {
       "model_id": "4eac52d8500843059f52ec2b026dd084",
       "version_major": 2,
       "version_minor": 0
      },
      "text/plain": [
       "Loading pipeline components...:   0%|          | 0/6 [00:00<?, ?it/s]"
      ]
     },
     "metadata": {},
     "output_type": "display_data"
    }
   ],
   "source": [
    "pipe = DiffusionPipeline.from_pretrained(\n",
    "    \"stabilityai/stable-diffusion-2-inpainting\",\n",
    "    torch_dtype=torch.float16\n",
    ").to(device)"
   ]
  },
  {
   "cell_type": "code",
   "execution_count": 3,
   "id": "9cbf8607-41e2-4afb-8026-ddfa9afa1309",
   "metadata": {},
   "outputs": [],
   "source": [
    "def losses(image1, image2):\n",
    "    T = transforms.ToTensor()\n",
    "    l1_loss_fn = nn.L1Loss()\n",
    "    l2_loss_fn = nn.MSELoss()\n",
    "    return l1_loss_fn(image2, image1), l2_loss_fn(image2, image1)"
   ]
  },
  {
   "cell_type": "code",
   "execution_count": 8,
   "id": "f42ab859-067d-4fe3-9225-ee9a8cf72970",
   "metadata": {},
   "outputs": [
    {
     "data": {
      "application/vnd.jupyter.widget-view+json": {
       "model_id": "8161c8b10ae04068ae63c006318ada5b",
       "version_major": 2,
       "version_minor": 0
      },
      "text/plain": [
       "  0%|          | 0/50 [00:00<?, ?it/s]"
      ]
     },
     "metadata": {},
     "output_type": "display_data"
    },
    {
     "name": "stdout",
     "output_type": "stream",
     "text": [
      "PSNR: 18.33785629272461\n",
      "L1 loss: tensor(0.0403)\n",
      "L2 loss: tensor(0.0147)\n",
      "[0] Inpainted image saved.\n"
     ]
    },
    {
     "data": {
      "application/vnd.jupyter.widget-view+json": {
       "model_id": "823772399f324b65adf7670a91952773",
       "version_major": 2,
       "version_minor": 0
      },
      "text/plain": [
       "  0%|          | 0/50 [00:00<?, ?it/s]"
      ]
     },
     "metadata": {},
     "output_type": "display_data"
    },
    {
     "name": "stdout",
     "output_type": "stream",
     "text": [
      "PSNR: 26.537643432617188\n",
      "L1 loss: tensor(0.0152)\n",
      "L2 loss: tensor(0.0022)\n",
      "[1] Inpainted image saved.\n"
     ]
    },
    {
     "data": {
      "application/vnd.jupyter.widget-view+json": {
       "model_id": "34d0c3fef22c42b48476acb53f3dfbf3",
       "version_major": 2,
       "version_minor": 0
      },
      "text/plain": [
       "  0%|          | 0/50 [00:00<?, ?it/s]"
      ]
     },
     "metadata": {},
     "output_type": "display_data"
    },
    {
     "name": "stdout",
     "output_type": "stream",
     "text": [
      "PSNR: 15.030433654785156\n",
      "L1 loss: tensor(0.0580)\n",
      "L2 loss: tensor(0.0314)\n",
      "[2] Inpainted image saved.\n",
      "gen_outputs/diffusion_celeba_grid.png\n"
     ]
    }
   ],
   "source": [
    "# img_paths = find_images_recursively(\"data/cityscapes/val/img\")\n",
    "img_paths = find_images_recursively(\"data/celeba_filtered\")\n",
    "\n",
    "def run_inpainting(paths, dataset, save_dir=\"celeba_filtered_outputs\", prompt=\"\", stop_at=3):\n",
    "    os.makedirs(save_dir, exist_ok=True)\n",
    "    T = transforms.ToTensor()\n",
    "    \n",
    "    for i, path in enumerate(paths):\n",
    "        img = Image.open(path).resize((128, 128))\n",
    "        mask = make_mask(128, 64, mask_type='square')\n",
    "        result = pipe(prompt=prompt, image=img, mask_image=mask).images[0]\n",
    "        \n",
    "        result.save(os.path.join(save_dir, f\"inpainted_{i:04d}.png\"))\n",
    "        result = result.resize(img.size)\n",
    "        \n",
    "        # print(l2_loss(img, result))\n",
    "        new_img = T(img)\n",
    "\n",
    "        masked_image = new_img * (1 - mask)\n",
    "        pred_mask = T(result) * mask\n",
    "        og_mask = new_img * mask\n",
    "        \n",
    "        print(\"PSNR:\", calculate_psnr(og_mask, pred_mask))\n",
    "        l1, l2 = losses(og_mask, pred_mask)\n",
    "        print(\"L1 loss:\", l1)\n",
    "        print(\"L2 loss:\", l2)\n",
    "        \n",
    "        save_image(masked_image, os.path.join(save_dir, f\"masked_{i:04d}.png\"))\n",
    "        img.save(os.path.join(save_dir, f\"original_{i:04d}.png\"))\n",
    "        save_image(mask, os.path.join(save_dir, f\"mask_{i:04d}.png\"))\n",
    "\n",
    "        print(f\"[{i}] Inpainted image saved.\")\n",
    "\n",
    "        if i == stop_at - 1:\n",
    "            break\n",
    "\n",
    "    save_combined_images(save_dir, dataset, stop_at)\n",
    "    grid_path = save_grid(dataset, stop_at)\n",
    "\n",
    "    return grid_path\n",
    "\n",
    "grd_path = run_inpainting(img_paths, 'celeba', stop_at=3)\n",
    "print(grd_path)"
   ]
  },
  {
   "cell_type": "code",
   "execution_count": null,
   "id": "0cf4a4ce-1625-46a4-9c06-80ae44a2423a",
   "metadata": {},
   "outputs": [],
   "source": []
  },
  {
   "cell_type": "code",
   "execution_count": 5,
   "id": "6aaeb1e2-54a0-4f17-9286-e03a15ab43aa",
   "metadata": {},
   "outputs": [],
   "source": [
    "# def run_inpainting_old(val_loader, save_dir=\"celeba_filtered_outputs\", prompt=\"\", stop_at=5):\n",
    "#     os.makedirs(save_dir, exist_ok=True)\n",
    "#     cnt = 0\n",
    "    \n",
    "#     for i, (masked_image, img, mask) in enumerate(val_loader):\n",
    "#         cnt += 1\n",
    "#         # print(masked_image.shape, img.shape, mask.shape)\n",
    "#         # result = pipe(prompt=prompt, image=masked_image, mask_image=mask).images[0]\n",
    "#         result = pipe(prompt=prompt, image=img, mask_image=mask).images[0]\n",
    "\n",
    "#         result.save(os.path.join(save_dir, f\"inpainted_{i+5:04d}.png\"))\n",
    "#         save_image(masked_image[0], os.path.join(save_dir, f\"masked_{i+5:04d}.png\"))\n",
    "#         save_image(img[0], os.path.join(save_dir, f\"original_{i+5:04d}.png\"))\n",
    "#         save_image(mask[0], os.path.join(save_dir, f\"mask_{i+5:04d}.png\"))\n",
    "        \n",
    "#         # img.save(os.path.join(save_dir, f\"original_{i:04d}.png\"))\n",
    "\n",
    "#         if i % 10 == 0:\n",
    "#             print(f\"[{i}] Inpainted image saved.\")\n",
    "\n",
    "#         if cnt == 5:\n",
    "#             break"
   ]
  }
 ],
 "metadata": {
  "kernelspec": {
   "display_name": "Python 3 (ipykernel)",
   "language": "python",
   "name": "python3"
  },
  "language_info": {
   "codemirror_mode": {
    "name": "ipython",
    "version": 3
   },
   "file_extension": ".py",
   "mimetype": "text/x-python",
   "name": "python",
   "nbconvert_exporter": "python",
   "pygments_lexer": "ipython3",
   "version": "3.11.9"
  }
 },
 "nbformat": 4,
 "nbformat_minor": 5
}
