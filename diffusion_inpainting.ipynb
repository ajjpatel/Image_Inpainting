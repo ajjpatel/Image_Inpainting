{
 "cells": [
  {
   "cell_type": "code",
   "execution_count": 1,
   "id": "8f2bd468-c271-4021-9edc-99149e32b1db",
   "metadata": {},
   "outputs": [
    {
     "name": "stderr",
     "output_type": "stream",
     "text": [
      "2025-06-10 16:19:14.448558: E external/local_xla/xla/stream_executor/cuda/cuda_dnn.cc:9261] Unable to register cuDNN factory: Attempting to register factory for plugin cuDNN when one has already been registered\n",
      "2025-06-10 16:19:14.448612: E external/local_xla/xla/stream_executor/cuda/cuda_fft.cc:607] Unable to register cuFFT factory: Attempting to register factory for plugin cuFFT when one has already been registered\n",
      "2025-06-10 16:19:14.449892: E external/local_xla/xla/stream_executor/cuda/cuda_blas.cc:1515] Unable to register cuBLAS factory: Attempting to register factory for plugin cuBLAS when one has already been registered\n",
      "2025-06-10 16:19:14.456016: I tensorflow/core/platform/cpu_feature_guard.cc:182] This TensorFlow binary is optimized to use available CPU instructions in performance-critical operations.\n",
      "To enable the following instructions: AVX2 FMA, in other operations, rebuild TensorFlow with the appropriate compiler flags.\n"
     ]
    }
   ],
   "source": [
    "import torch\n",
    "# from diffusers import StableDiffusionInpaintingPipeline\n",
    "from torchvision.utils import save_image\n",
    "from torchvision import transforms\n",
    "from PIL import Image\n",
    "import os\n",
    "from torch.utils.data import DataLoader\n",
    "from tqdm import tqdm\n",
    "import sys\n",
    "sys.path.insert(0, \"Image_Inpainting\")\n",
    "from data import InpaintingDataset\n",
    "from evaluate_models import evaluate_model\n",
    "from diffusers import StableDiffusionInpaintPipeline, DiffusionPipeline\n",
    "\n",
    "device = torch.device(\"cuda\" if torch.cuda.is_available() else \"cpu\")"
   ]
  },
  {
   "cell_type": "code",
   "execution_count": 2,
   "id": "ba5027fb-f501-4b67-94f6-71e8e06c9892",
   "metadata": {
    "scrolled": true
   },
   "outputs": [
    {
     "data": {
      "application/vnd.jupyter.widget-view+json": {
       "model_id": "dda157b53a3a452d97fb95d6fd78983a",
       "version_major": 2,
       "version_minor": 0
      },
      "text/plain": [
       "Loading pipeline components...:   0%|          | 0/6 [00:00<?, ?it/s]"
      ]
     },
     "metadata": {},
     "output_type": "display_data"
    }
   ],
   "source": [
    "# Load pretrained inpainting model\n",
    "# pipe = StableDiffusionInpaintPipeline.from_pretrained(\n",
    "#     # \"stabilityai/stable-diffusion-2-inpainting\",\n",
    "#     \"runwayml/stable-diffusion-inpainting\",\n",
    "#     revision=\"fp16\",\n",
    "#     torch_dtype=torch.float16,\n",
    "#     # low_cpu_mem_usage=True,\n",
    "#     # use_safetensors=True\n",
    "# ).to(device)\n",
    "# pipe.safety_checker = None  # optional: disable NSFW filter\n",
    "pipe = DiffusionPipeline.from_pretrained(\n",
    "    \"stabilityai/stable-diffusion-2-inpainting\",\n",
    "    torch_dtype=torch.float16\n",
    ").to(device)"
   ]
  },
  {
   "cell_type": "code",
   "execution_count": 9,
   "id": "6aaeb1e2-54a0-4f17-9286-e03a15ab43aa",
   "metadata": {},
   "outputs": [],
   "source": [
    "def run_inpainting(val_loader, save_dir=\"celeba_inpainted_outputs\", prompt=\"\", stop_at=5):\n",
    "    os.makedirs(save_dir, exist_ok=True)\n",
    "    cnt = 0\n",
    "    \n",
    "    for i, (masked_image, img, mask) in enumerate(val_loader):\n",
    "        cnt += 1\n",
    "        # print(masked_image.shape, img.shape, mask.shape)\n",
    "        # result = pipe(prompt=prompt, image=masked_image, mask_image=mask).images[0]\n",
    "        result = pipe(prompt=prompt, image=img, mask_image=mask).images[0]\n",
    "\n",
    "        result.save(os.path.join(save_dir, f\"inpainted_{i:04d}.png\"))\n",
    "        save_image(masked_image[0], os.path.join(save_dir, f\"masked_{i:04d}.png\"))\n",
    "        save_image(img[0], os.path.join(save_dir, f\"original_{i:04d}.png\"))\n",
    "        # img.save(os.path.join(save_dir, f\"original_{i:04d}.png\"))\n",
    "\n",
    "        if i % 10 == 0:\n",
    "            print(f\"[{i}] Inpainted image saved.\")\n",
    "\n",
    "        if cnt == 5:\n",
    "            break"
   ]
  },
  {
   "cell_type": "code",
   "execution_count": 10,
   "id": "f42ab859-067d-4fe3-9225-ee9a8cf72970",
   "metadata": {},
   "outputs": [
    {
     "name": "stdout",
     "output_type": "stream",
     "text": [
      "[INFO] Found 500 images for 'celeba' in data/cityscapes/val/img (recursively, single class)\n",
      "500\n"
     ]
    }
   ],
   "source": [
    "# dataset = InpaintingDataset(root=\"data/celeba_hq_256\")\n",
    "dataset = InpaintingDataset(root=\"data/cityscapes/val/img\")\n",
    "# dataset = dataset[:10]\n",
    "print(len(dataset))\n",
    "loader = DataLoader(dataset, batch_size=1, \n",
    "                        pin_memory=True, shuffle=False, persistent_workers=True, \n",
    "                        num_workers=24)\n"
   ]
  },
  {
   "cell_type": "code",
   "execution_count": 11,
   "id": "86d1f8ac-f3c4-4eba-afcd-0745f20d24d5",
   "metadata": {
    "scrolled": true
   },
   "outputs": [
    {
     "data": {
      "application/vnd.jupyter.widget-view+json": {
       "model_id": "52a04827283e4e6fbc10a570fa4a3f1a",
       "version_major": 2,
       "version_minor": 0
      },
      "text/plain": [
       "  0%|          | 0/50 [00:00<?, ?it/s]"
      ]
     },
     "metadata": {},
     "output_type": "display_data"
    },
    {
     "name": "stdout",
     "output_type": "stream",
     "text": [
      "[0] Inpainted image saved.\n"
     ]
    },
    {
     "data": {
      "application/vnd.jupyter.widget-view+json": {
       "model_id": "695dec2f785e435d9fcd4c033f29872f",
       "version_major": 2,
       "version_minor": 0
      },
      "text/plain": [
       "  0%|          | 0/50 [00:00<?, ?it/s]"
      ]
     },
     "metadata": {},
     "output_type": "display_data"
    },
    {
     "data": {
      "application/vnd.jupyter.widget-view+json": {
       "model_id": "99cc0fa62a0a4c39936f678ac68529b6",
       "version_major": 2,
       "version_minor": 0
      },
      "text/plain": [
       "  0%|          | 0/50 [00:00<?, ?it/s]"
      ]
     },
     "metadata": {},
     "output_type": "display_data"
    },
    {
     "data": {
      "application/vnd.jupyter.widget-view+json": {
       "model_id": "9b895ebf835e4d9e9252cae6c80a06a5",
       "version_major": 2,
       "version_minor": 0
      },
      "text/plain": [
       "  0%|          | 0/50 [00:00<?, ?it/s]"
      ]
     },
     "metadata": {},
     "output_type": "display_data"
    },
    {
     "data": {
      "application/vnd.jupyter.widget-view+json": {
       "model_id": "4e253afbd7e84da48b47def9031aa286",
       "version_major": 2,
       "version_minor": 0
      },
      "text/plain": [
       "  0%|          | 0/50 [00:00<?, ?it/s]"
      ]
     },
     "metadata": {},
     "output_type": "display_data"
    }
   ],
   "source": [
    "run_inpainting(loader, save_dir=\"cityscapes_inpainted_outputs\")"
   ]
  }
 ],
 "metadata": {
  "kernelspec": {
   "display_name": "Python 3 (ipykernel)",
   "language": "python",
   "name": "python3"
  },
  "language_info": {
   "codemirror_mode": {
    "name": "ipython",
    "version": 3
   },
   "file_extension": ".py",
   "mimetype": "text/x-python",
   "name": "python",
   "nbconvert_exporter": "python",
   "pygments_lexer": "ipython3",
   "version": "3.11.9"
  }
 },
 "nbformat": 4,
 "nbformat_minor": 5
}
